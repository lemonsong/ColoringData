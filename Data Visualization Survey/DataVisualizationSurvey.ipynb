{
 "cells": [
  {
   "cell_type": "code",
   "execution_count": 9,
   "metadata": {
    "collapsed": false
   },
   "outputs": [],
   "source": [
    "import pandas as pd"
   ]
  },
  {
   "cell_type": "code",
   "execution_count": 10,
   "metadata": {
    "collapsed": false
   },
   "outputs": [],
   "source": [
    "# data source: https://github.com/emeeks/data_visualization_survey/tree/master/data\n",
    "survey = pd.read_csv('cleaned_survey_results.csv')"
   ]
  },
  {
   "cell_type": "code",
   "execution_count": 11,
   "metadata": {
    "collapsed": false
   },
   "outputs": [
    {
     "data": {
      "text/plain": [
       "(980, 44)"
      ]
     },
     "execution_count": 11,
     "metadata": {},
     "output_type": "execute_result"
    }
   ],
   "source": [
    "survey.shape"
   ]
  },
  {
   "cell_type": "code",
   "execution_count": 12,
   "metadata": {
    "collapsed": false
   },
   "outputs": [],
   "source": [
    "multi_q_dict = {\"How is your organization using data visualization?\": \"How to use viz\",\n",
    " \"What level of data visualizations are used at your organization?\": \"What level of data\",\n",
    " \"Data visualization roles at your organization are found in what part of the organization?\": \"What part of org\",\n",
    " \"What technologies do you use to visualize data?\": \"Technologies\", \"How do you present your data visualizations?\": \"How to present\", \n",
    " \"Which of these charts have you used in production in the last 6 months:\": \"Chart Types\",\n",
    " \"Who do you make data visualizations for?\": \"Who to make for\",\"What do they use your data visualizations for?\": \"What to use for\", \n",
    " \"Who do you look to as a thought leader in data visualization?\": \"Thought Leader\"}"
   ]
  },
  {
   "cell_type": "markdown",
   "metadata": {},
   "source": [
    "# Get data for multi-value field"
   ]
  },
  {
   "cell_type": "code",
   "execution_count": 13,
   "metadata": {
    "collapsed": true
   },
   "outputs": [],
   "source": [
    "def count_multi_value_q(df, time_col, real_col, time_col_name, real_col_name):\n",
    "    new_df =  df[[time_col, real_col]]\n",
    "    mask = (new_df[real_col].str.len() >1)\n",
    "    new_df = new_df.loc[mask]\n",
    "    new_df = pd.concat([pd.Series(row[time_col], row[real_col].split(';'))              \n",
    "                        for _, row in new_df.iterrows()]).reset_index()\n",
    "    new_df.columns = [real_col_name, time_col_name]\n",
    "    new_df = new_df.groupby(real_col_name).size().reset_index().rename(columns={0:'count'}).sort_values(by='count', ascending=False).reset_index(drop=True)\n",
    "    new_df\n",
    "    new_df[real_col_name] = new_df[real_col_name].map(lambda x: '\"' + str(x) + '\"')\n",
    "    new_df.columns = new_df.columns.map(lambda x: '\"' + x + '\"')\n",
    "    \n",
    "    new_df.to_csv(\"%s.csv\"%real_col_name, index = False)\n",
    "    return new_df"
   ]
  },
  {
   "cell_type": "code",
   "execution_count": 15,
   "metadata": {
    "collapsed": false
   },
   "outputs": [],
   "source": [
    "for key, value in multi_q_dict.iteritems():\n",
    "    count_multi_value_q(survey, 'Timestamp', key, 'Timestamp', value)\n"
   ]
  },
  {
   "cell_type": "markdown",
   "metadata": {},
   "source": [
    "# Get data for single value field"
   ]
  },
  {
   "cell_type": "code",
   "execution_count": 16,
   "metadata": {
    "collapsed": false
   },
   "outputs": [],
   "source": [
    "def count_single_value_q(df, real_col):\n",
    "    new_df = df.groupby(real_col).size().reset_index().rename(columns={0:'count'}).sort_values(by='count', ascending=False).reset_index(drop=True)\n",
    "    new_df[real_col] = new_df[real_col].map(lambda x: '\"' + str(x) + '\"')\n",
    "    new_df.columns = new_df.columns.map(lambda x: '\"' + x + '\"')\n",
    "    real_col = real_col.replace('?','').replace('/','')\n",
    "    new_df.to_csv(\"%s.csv\"%real_col, index = False)\n",
    "    return new_df"
   ]
  },
  {
   "cell_type": "code",
   "execution_count": 17,
   "metadata": {
    "collapsed": true
   },
   "outputs": [],
   "source": [
    "multi_q_list = list(multi_q_dict.keys())"
   ]
  },
  {
   "cell_type": "code",
   "execution_count": 18,
   "metadata": {
    "collapsed": false
   },
   "outputs": [],
   "source": [
    "for i in survey.columns:\n",
    "    if i not in multi_q_list:\n",
    "        # print i\n",
    "        count_single_value_q(survey, i)"
   ]
  },
  {
   "cell_type": "markdown",
   "metadata": {},
   "source": [
    "# Process induvidual field with different requirement"
   ]
  },
  {
   "cell_type": "code",
   "execution_count": 19,
   "metadata": {
    "collapsed": false
   },
   "outputs": [],
   "source": [
    "def count_multi_value_details(df, time_col, real_col, time_col_name, real_col_name):\n",
    "    new_df =  df[[time_col, real_col]]\n",
    "    mask = (new_df[real_col].str.len() >1)\n",
    "    new_df = new_df.loc[mask]\n",
    "    new_df = pd.concat([pd.Series(row[time_col], row[real_col].split(';'))              \n",
    "                        for _, row in new_df.iterrows()]).reset_index()\n",
    "    new_df.columns = [real_col_name, time_col_name]\n",
    "    test = new_df\n",
    "    new_df = new_df.groupby(real_col_name).size().reset_index().rename(columns={0:'count'}).sort_values(by='count', ascending=False).reset_index(drop=True)\n",
    "    new_df\n",
    "    new_df[real_col_name] = new_df[real_col_name].map(lambda x: '\"' + str(x) + '\"')\n",
    "    new_df.columns = new_df.columns.map(lambda x: '\"' + x + '\"')\n",
    "    \n",
    "    #new_df.to_csv(\"%s.csv\"%real_col_name, index = False)\n",
    "    return new_df, test\n",
    "\n",
    "\n",
    "use_for, use_for_simple = count_multi_value_details(survey, \"How many years have you been doing data visualization?\", \"What do they use your data visualizations for?\", \"Year\", \"Goal\")\n",
    "thought_leader, though_leader_simple = count_multi_value_details(survey, \"How many years have you been doing data visualization?\", \"Who do you look to as a thought leader in data visualization?\", \"Year\", \"Thought leader\")"
   ]
  },
  {
   "cell_type": "code",
   "execution_count": 20,
   "metadata": {
    "collapsed": false
   },
   "outputs": [],
   "source": [
    "use_for_simple = use_for_simple[use_for_simple.Goal.isin(['Analysis','Summarization','Research','Learning','Entertainment'])].groupby(['Year','Goal']).size().reset_index()"
   ]
  },
  {
   "cell_type": "code",
   "execution_count": 21,
   "metadata": {
    "collapsed": false
   },
   "outputs": [],
   "source": [
    "use_for_simple = use_for_simple.pivot(index='Year', columns='Goal', values=0).apply(lambda c: c / c.sum() * 100, axis=1).reset_index()"
   ]
  },
  {
   "cell_type": "code",
   "execution_count": 22,
   "metadata": {
    "collapsed": true
   },
   "outputs": [],
   "source": [
    "use_for_simple.rename(columns={'index':'Year'}, inplace=True)"
   ]
  },
  {
   "cell_type": "code",
   "execution_count": 23,
   "metadata": {
    "collapsed": false
   },
   "outputs": [],
   "source": [
    "use_for_simple['Year'] = use_for_simple.Year.map(lambda x: '\"' + str(x) + '\"')\n",
    "use_for_simple.columns = use_for_simple.columns.map(lambda x: '\"' + str(x) + '\"')\n",
    "use_for_simple.to_csv('groupby.tsv', index=None, sep='\\t')"
   ]
  },
  {
   "cell_type": "code",
   "execution_count": 24,
   "metadata": {
    "collapsed": false
   },
   "outputs": [],
   "source": [
    "thought_leader.to_csv('thoughtleader.tsv', index=None, sep='\\t')"
   ]
  },
  {
   "cell_type": "code",
   "execution_count": null,
   "metadata": {
    "collapsed": true
   },
   "outputs": [],
   "source": []
  }
 ],
 "metadata": {
  "kernelspec": {
   "display_name": "Python 2",
   "language": "python",
   "name": "python2"
  },
  "language_info": {
   "codemirror_mode": {
    "name": "ipython",
    "version": 2
   },
   "file_extension": ".py",
   "mimetype": "text/x-python",
   "name": "python",
   "nbconvert_exporter": "python",
   "pygments_lexer": "ipython2",
   "version": "2.7.13"
  }
 },
 "nbformat": 4,
 "nbformat_minor": 0
}
